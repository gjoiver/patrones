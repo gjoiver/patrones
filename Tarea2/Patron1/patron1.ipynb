{
 "cells": [
  {
   "cell_type": "markdown",
   "metadata": {},
   "source": [
    "## Definicion del contexto\n",
    "\n",
    "El contexto con el que quiero trabajar mi tarea es un proyecto personal en el que me encuentro trabajando el cual corresponde a un bot de trading algorítmico basado en señales. Éste toma estrategias de inversion usando indicadores técnicos y genera señales de compra y venta que ejecuta en los mercados a los que se encuentra conectado mediante API rest o recibiendo datos de manera ágil usando websockets de algunos comercios."
   ]
  },
  {
   "cell_type": "markdown",
   "metadata": {},
   "source": [
    "![TradingBot](TradingBot.png)"
   ]
  },
  {
   "cell_type": "markdown",
   "metadata": {},
   "source": [
    "# Identificacion de requerimientos asociados al caso de uso:\n",
    "Dentro de los posibles requerimientos asociados al caso de uso tenemos: (Click para abrir cada item)\n",
    "\n",
    "<details> \n",
    "<summary>Problema 1</summary> \n",
    "\n",
    "- **Problema:** El bot debe integrarse con múltiples APIs de exchanges (Binance, Coinbase, Kraken), cada una con su propia estructura y formato de datos.\n",
    "- **Patrón propuesto:** Adapter \n",
    "- **Justificación:** Permite adaptar interfaces incompatibles al modelo estándar del bot (`ExchangeClient`), facilitando la integración con múltiples exchanges sin modificar el núcleo de la aplicación. \n",
    "</details>\n",
    "\n",
    "<details> \n",
    "<summary>Problema 2</summary> \n",
    "\n",
    "- **Problema:** Se desea añadir funcionalidades adicionales a las estrategias de trading (como logging, validación o métricas) sin modificar sus clases base.\n",
    "- **Patrón propuesto:** Decorator \n",
    "- **Justificación:** Permite extender dinámicamente el comportamiento de estrategias envolviéndolas con clases adicionales, manteniendo el principio de abierto/cerrado y mejorando la reutilización.\n",
    "</details>\n",
    "\n",
    "<details>\n",
    "<summary>Problema 3</summary> \n",
    "\n",
    "- **Problema:** El bot debe acceder a datos de mercado provenientes de diversas fuentes (API REST, WebSocket, base de datos), y tratarlos como una única fuente unificada. \n",
    "- **Patrón propuesto:** Facade \n",
    "- **Justificación:** Proporciona una interfaz simplificada para un conjunto complejo de subsistemas de adquisición de datos, ocultando la complejidad y mejorando la experiencia del desarrollador.\n",
    "</details>\n",
    "\n",
    "<details>\n",
    "<summary>Problema 4</summary> \n",
    "\n",
    "- **Problema:** Algunas estrategias combinan varias señales (como RSI, MACD y volumen) que deben evaluarse de forma jerárquica o conjunta. \n",
    "- **Patrón propuesto:** Composite \n",
    "- **Justificación:** Permite tratar señales individuales y compuestas de forma uniforme, lo cual facilita la construcción y evaluación de estrategias complejas a partir de componentes simples. \n",
    "</details>\n",
    "\n",
    "<details>\n",
    "<summary>Problema 5</summary> \n",
    "\n",
    "- **Problema:** Los modelos de IA o configuraciones pesadas del bot se usan repetidamente y requieren optimización de memoria. \n",
    "- **Patrón propuesto:** Flyweight \n",
    "- **Justificación:** Permite reutilizar instancias compartidas de objetos pesados, reduciendo el consumo de memoria y mejorando el rendimiento general del sistema.\n",
    "</details>\n",
    "\n",
    "<details>\n",
    "<summary>Problema 6</summary> \n",
    "\n",
    "- **Problema:** El bot debe enviar notificaciones a distintos canales (email, Telegram, consola, API), pero sin acoplar la lógica de generación de alertas con los medios de salida. \n",
    "- **Patrón propuesto:** Bridge \n",
    "- **Justificación:** Separa la abstracción de la implementación, permitiendo combinar libremente distintos tipos de notificaciones con múltiples canales sin modificar las clases existentes.\n",
    "</details>\n",
    "\n",
    "<details>\n",
    "<summary>Problema 7</summary> \n",
    "\n",
    "- **Problema:** Se necesita controlar y restringir el acceso a ciertos recursos sensibles del bot (como la configuración en tiempo de ejecución o la ejecución de órdenes reales). \n",
    "- **Patrón propuesto:** Proxy \n",
    "- **Justificación:** Permite interponer una capa de control de acceso, logging o caching antes de delegar las acciones al objeto real, mejorando la seguridad y el control del sistema.\n",
    "</details>"
   ]
  },
  {
   "cell_type": "markdown",
   "metadata": {},
   "source": []
  }
 ],
 "metadata": {
  "kernelspec": {
   "display_name": "venv",
   "language": "python",
   "name": "python3"
  },
  "language_info": {
   "name": "python",
   "version": "3.11.3"
  }
 },
 "nbformat": 4,
 "nbformat_minor": 2
}
